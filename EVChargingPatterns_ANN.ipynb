{
 "cells": [
  {
   "cell_type": "code",
   "execution_count": 1,
   "id": "d25fcd9d-1429-44b5-961d-2e6861f51d6b",
   "metadata": {},
   "outputs": [],
   "source": [
    "import pandas as pd\n",
    "import matplotlib.pyplot as plt\n",
    "\n",
    "from sklearn.preprocessing import LabelEncoder, minmax_scale\n",
    "from sklearn.model_selection import train_test_split"
   ]
  },
  {
   "cell_type": "code",
   "execution_count": 2,
   "id": "f506ff49-7e31-46b5-b2f7-f8ad3ea0ef53",
   "metadata": {},
   "outputs": [],
   "source": [
    "data = pd.read_csv(\"ev_charging_patterns.csv\")"
   ]
  },
  {
   "cell_type": "code",
   "execution_count": 3,
   "id": "da3a6f8c-aea8-46cb-9ac4-d56abd794a3d",
   "metadata": {
    "scrolled": true
   },
   "outputs": [
    {
     "data": {
      "text/html": [
       "<div>\n",
       "<style scoped>\n",
       "    .dataframe tbody tr th:only-of-type {\n",
       "        vertical-align: middle;\n",
       "    }\n",
       "\n",
       "    .dataframe tbody tr th {\n",
       "        vertical-align: top;\n",
       "    }\n",
       "\n",
       "    .dataframe thead th {\n",
       "        text-align: right;\n",
       "    }\n",
       "</style>\n",
       "<table border=\"1\" class=\"dataframe\">\n",
       "  <thead>\n",
       "    <tr style=\"text-align: right;\">\n",
       "      <th></th>\n",
       "      <th>User ID</th>\n",
       "      <th>Vehicle Model</th>\n",
       "      <th>Battery Capacity (kWh)</th>\n",
       "      <th>Charging Station ID</th>\n",
       "      <th>Charging Station Location</th>\n",
       "      <th>Charging Start Time</th>\n",
       "      <th>Charging End Time</th>\n",
       "      <th>Energy Consumed (kWh)</th>\n",
       "      <th>Charging Duration (hours)</th>\n",
       "      <th>Charging Rate (kW)</th>\n",
       "      <th>Charging Cost (USD)</th>\n",
       "      <th>Time of Day</th>\n",
       "      <th>Day of Week</th>\n",
       "      <th>State of Charge (Start %)</th>\n",
       "      <th>State of Charge (End %)</th>\n",
       "      <th>Distance Driven (since last charge) (km)</th>\n",
       "      <th>Temperature (°C)</th>\n",
       "      <th>Vehicle Age (years)</th>\n",
       "      <th>Charger Type</th>\n",
       "      <th>User Type</th>\n",
       "    </tr>\n",
       "  </thead>\n",
       "  <tbody>\n",
       "    <tr>\n",
       "      <th>0</th>\n",
       "      <td>User_1</td>\n",
       "      <td>BMW i3</td>\n",
       "      <td>108.463007</td>\n",
       "      <td>Station_391</td>\n",
       "      <td>Houston</td>\n",
       "      <td>2024-01-01 00:00:00</td>\n",
       "      <td>2024-01-01 00:39:00</td>\n",
       "      <td>60.712346</td>\n",
       "      <td>0.591363</td>\n",
       "      <td>36.389181</td>\n",
       "      <td>13.087717</td>\n",
       "      <td>Evening</td>\n",
       "      <td>Tuesday</td>\n",
       "      <td>29.371576</td>\n",
       "      <td>86.119962</td>\n",
       "      <td>293.602111</td>\n",
       "      <td>27.947953</td>\n",
       "      <td>2.0</td>\n",
       "      <td>DC Fast Charger</td>\n",
       "      <td>Commuter</td>\n",
       "    </tr>\n",
       "    <tr>\n",
       "      <th>1</th>\n",
       "      <td>User_2</td>\n",
       "      <td>Hyundai Kona</td>\n",
       "      <td>100.000000</td>\n",
       "      <td>Station_428</td>\n",
       "      <td>San Francisco</td>\n",
       "      <td>2024-01-01 01:00:00</td>\n",
       "      <td>2024-01-01 03:01:00</td>\n",
       "      <td>12.339275</td>\n",
       "      <td>3.133652</td>\n",
       "      <td>30.677735</td>\n",
       "      <td>21.128448</td>\n",
       "      <td>Morning</td>\n",
       "      <td>Monday</td>\n",
       "      <td>10.115778</td>\n",
       "      <td>84.664344</td>\n",
       "      <td>112.112804</td>\n",
       "      <td>14.311026</td>\n",
       "      <td>3.0</td>\n",
       "      <td>Level 1</td>\n",
       "      <td>Casual Driver</td>\n",
       "    </tr>\n",
       "    <tr>\n",
       "      <th>2</th>\n",
       "      <td>User_3</td>\n",
       "      <td>Chevy Bolt</td>\n",
       "      <td>75.000000</td>\n",
       "      <td>Station_181</td>\n",
       "      <td>San Francisco</td>\n",
       "      <td>2024-01-01 02:00:00</td>\n",
       "      <td>2024-01-01 04:48:00</td>\n",
       "      <td>19.128876</td>\n",
       "      <td>2.452653</td>\n",
       "      <td>27.513593</td>\n",
       "      <td>35.667270</td>\n",
       "      <td>Morning</td>\n",
       "      <td>Thursday</td>\n",
       "      <td>6.854604</td>\n",
       "      <td>69.917615</td>\n",
       "      <td>71.799253</td>\n",
       "      <td>21.002002</td>\n",
       "      <td>2.0</td>\n",
       "      <td>Level 2</td>\n",
       "      <td>Commuter</td>\n",
       "    </tr>\n",
       "    <tr>\n",
       "      <th>3</th>\n",
       "      <td>User_4</td>\n",
       "      <td>Hyundai Kona</td>\n",
       "      <td>50.000000</td>\n",
       "      <td>Station_327</td>\n",
       "      <td>Houston</td>\n",
       "      <td>2024-01-01 03:00:00</td>\n",
       "      <td>2024-01-01 06:42:00</td>\n",
       "      <td>79.457824</td>\n",
       "      <td>1.266431</td>\n",
       "      <td>32.882870</td>\n",
       "      <td>13.036239</td>\n",
       "      <td>Evening</td>\n",
       "      <td>Saturday</td>\n",
       "      <td>83.120003</td>\n",
       "      <td>99.624328</td>\n",
       "      <td>199.577785</td>\n",
       "      <td>38.316313</td>\n",
       "      <td>1.0</td>\n",
       "      <td>Level 1</td>\n",
       "      <td>Long-Distance Traveler</td>\n",
       "    </tr>\n",
       "    <tr>\n",
       "      <th>4</th>\n",
       "      <td>User_5</td>\n",
       "      <td>Hyundai Kona</td>\n",
       "      <td>50.000000</td>\n",
       "      <td>Station_108</td>\n",
       "      <td>Los Angeles</td>\n",
       "      <td>2024-01-01 04:00:00</td>\n",
       "      <td>2024-01-01 05:46:00</td>\n",
       "      <td>19.629104</td>\n",
       "      <td>2.019765</td>\n",
       "      <td>10.215712</td>\n",
       "      <td>10.161471</td>\n",
       "      <td>Morning</td>\n",
       "      <td>Saturday</td>\n",
       "      <td>54.258950</td>\n",
       "      <td>63.743786</td>\n",
       "      <td>203.661847</td>\n",
       "      <td>-7.834199</td>\n",
       "      <td>1.0</td>\n",
       "      <td>Level 1</td>\n",
       "      <td>Long-Distance Traveler</td>\n",
       "    </tr>\n",
       "  </tbody>\n",
       "</table>\n",
       "</div>"
      ],
      "text/plain": [
       "  User ID Vehicle Model  Battery Capacity (kWh) Charging Station ID  \\\n",
       "0  User_1        BMW i3              108.463007         Station_391   \n",
       "1  User_2  Hyundai Kona              100.000000         Station_428   \n",
       "2  User_3    Chevy Bolt               75.000000         Station_181   \n",
       "3  User_4  Hyundai Kona               50.000000         Station_327   \n",
       "4  User_5  Hyundai Kona               50.000000         Station_108   \n",
       "\n",
       "  Charging Station Location  Charging Start Time    Charging End Time  \\\n",
       "0                   Houston  2024-01-01 00:00:00  2024-01-01 00:39:00   \n",
       "1             San Francisco  2024-01-01 01:00:00  2024-01-01 03:01:00   \n",
       "2             San Francisco  2024-01-01 02:00:00  2024-01-01 04:48:00   \n",
       "3                   Houston  2024-01-01 03:00:00  2024-01-01 06:42:00   \n",
       "4               Los Angeles  2024-01-01 04:00:00  2024-01-01 05:46:00   \n",
       "\n",
       "   Energy Consumed (kWh)  Charging Duration (hours)  Charging Rate (kW)  \\\n",
       "0              60.712346                   0.591363           36.389181   \n",
       "1              12.339275                   3.133652           30.677735   \n",
       "2              19.128876                   2.452653           27.513593   \n",
       "3              79.457824                   1.266431           32.882870   \n",
       "4              19.629104                   2.019765           10.215712   \n",
       "\n",
       "   Charging Cost (USD) Time of Day Day of Week  State of Charge (Start %)  \\\n",
       "0            13.087717     Evening     Tuesday                  29.371576   \n",
       "1            21.128448     Morning      Monday                  10.115778   \n",
       "2            35.667270     Morning    Thursday                   6.854604   \n",
       "3            13.036239     Evening    Saturday                  83.120003   \n",
       "4            10.161471     Morning    Saturday                  54.258950   \n",
       "\n",
       "   State of Charge (End %)  Distance Driven (since last charge) (km)  \\\n",
       "0                86.119962                                293.602111   \n",
       "1                84.664344                                112.112804   \n",
       "2                69.917615                                 71.799253   \n",
       "3                99.624328                                199.577785   \n",
       "4                63.743786                                203.661847   \n",
       "\n",
       "   Temperature (°C)  Vehicle Age (years)     Charger Type  \\\n",
       "0         27.947953                  2.0  DC Fast Charger   \n",
       "1         14.311026                  3.0          Level 1   \n",
       "2         21.002002                  2.0          Level 2   \n",
       "3         38.316313                  1.0          Level 1   \n",
       "4         -7.834199                  1.0          Level 1   \n",
       "\n",
       "                User Type  \n",
       "0                Commuter  \n",
       "1           Casual Driver  \n",
       "2                Commuter  \n",
       "3  Long-Distance Traveler  \n",
       "4  Long-Distance Traveler  "
      ]
     },
     "execution_count": 3,
     "metadata": {},
     "output_type": "execute_result"
    }
   ],
   "source": [
    "data.head() "
   ]
  },
  {
   "cell_type": "code",
   "execution_count": 4,
   "id": "13c181b4-7c84-4af0-b501-fa7061003c5c",
   "metadata": {},
   "outputs": [
    {
     "name": "stdout",
     "output_type": "stream",
     "text": [
      "(1320, 20)\n",
      "['Commuter' 'Casual Driver' 'Long-Distance Traveler']\n"
     ]
    }
   ],
   "source": [
    "print(data.shape)\n",
    "print(data['User Type'].unique())"
   ]
  },
  {
   "cell_type": "code",
   "execution_count": 5,
   "id": "c9ae9d64-353c-4c4f-bbba-852c52ef5467",
   "metadata": {},
   "outputs": [],
   "source": [
    "X = data.drop('User Type', axis = 1)\n",
    "y = data.drop(X.columns, axis = 1)"
   ]
  },
  {
   "cell_type": "code",
   "execution_count": 6,
   "id": "c8246efa-1eb8-42f8-b4ff-7ff79516ec7f",
   "metadata": {},
   "outputs": [
    {
     "data": {
      "text/html": [
       "<div>\n",
       "<style scoped>\n",
       "    .dataframe tbody tr th:only-of-type {\n",
       "        vertical-align: middle;\n",
       "    }\n",
       "\n",
       "    .dataframe tbody tr th {\n",
       "        vertical-align: top;\n",
       "    }\n",
       "\n",
       "    .dataframe thead th {\n",
       "        text-align: right;\n",
       "    }\n",
       "</style>\n",
       "<table border=\"1\" class=\"dataframe\">\n",
       "  <thead>\n",
       "    <tr style=\"text-align: right;\">\n",
       "      <th></th>\n",
       "      <th>User ID</th>\n",
       "      <th>Vehicle Model</th>\n",
       "      <th>Battery Capacity (kWh)</th>\n",
       "      <th>Charging Station ID</th>\n",
       "      <th>Charging Station Location</th>\n",
       "      <th>Charging Start Time</th>\n",
       "      <th>Charging End Time</th>\n",
       "      <th>Energy Consumed (kWh)</th>\n",
       "      <th>Charging Duration (hours)</th>\n",
       "      <th>Charging Rate (kW)</th>\n",
       "      <th>Charging Cost (USD)</th>\n",
       "      <th>Time of Day</th>\n",
       "      <th>Day of Week</th>\n",
       "      <th>State of Charge (Start %)</th>\n",
       "      <th>State of Charge (End %)</th>\n",
       "      <th>Distance Driven (since last charge) (km)</th>\n",
       "      <th>Temperature (°C)</th>\n",
       "      <th>Vehicle Age (years)</th>\n",
       "      <th>Charger Type</th>\n",
       "    </tr>\n",
       "  </thead>\n",
       "  <tbody>\n",
       "    <tr>\n",
       "      <th>0</th>\n",
       "      <td>User_1</td>\n",
       "      <td>BMW i3</td>\n",
       "      <td>108.463007</td>\n",
       "      <td>Station_391</td>\n",
       "      <td>Houston</td>\n",
       "      <td>2024-01-01 00:00:00</td>\n",
       "      <td>2024-01-01 00:39:00</td>\n",
       "      <td>60.712346</td>\n",
       "      <td>0.591363</td>\n",
       "      <td>36.389181</td>\n",
       "      <td>13.087717</td>\n",
       "      <td>Evening</td>\n",
       "      <td>Tuesday</td>\n",
       "      <td>29.371576</td>\n",
       "      <td>86.119962</td>\n",
       "      <td>293.602111</td>\n",
       "      <td>27.947953</td>\n",
       "      <td>2.0</td>\n",
       "      <td>DC Fast Charger</td>\n",
       "    </tr>\n",
       "    <tr>\n",
       "      <th>1</th>\n",
       "      <td>User_2</td>\n",
       "      <td>Hyundai Kona</td>\n",
       "      <td>100.000000</td>\n",
       "      <td>Station_428</td>\n",
       "      <td>San Francisco</td>\n",
       "      <td>2024-01-01 01:00:00</td>\n",
       "      <td>2024-01-01 03:01:00</td>\n",
       "      <td>12.339275</td>\n",
       "      <td>3.133652</td>\n",
       "      <td>30.677735</td>\n",
       "      <td>21.128448</td>\n",
       "      <td>Morning</td>\n",
       "      <td>Monday</td>\n",
       "      <td>10.115778</td>\n",
       "      <td>84.664344</td>\n",
       "      <td>112.112804</td>\n",
       "      <td>14.311026</td>\n",
       "      <td>3.0</td>\n",
       "      <td>Level 1</td>\n",
       "    </tr>\n",
       "    <tr>\n",
       "      <th>2</th>\n",
       "      <td>User_3</td>\n",
       "      <td>Chevy Bolt</td>\n",
       "      <td>75.000000</td>\n",
       "      <td>Station_181</td>\n",
       "      <td>San Francisco</td>\n",
       "      <td>2024-01-01 02:00:00</td>\n",
       "      <td>2024-01-01 04:48:00</td>\n",
       "      <td>19.128876</td>\n",
       "      <td>2.452653</td>\n",
       "      <td>27.513593</td>\n",
       "      <td>35.667270</td>\n",
       "      <td>Morning</td>\n",
       "      <td>Thursday</td>\n",
       "      <td>6.854604</td>\n",
       "      <td>69.917615</td>\n",
       "      <td>71.799253</td>\n",
       "      <td>21.002002</td>\n",
       "      <td>2.0</td>\n",
       "      <td>Level 2</td>\n",
       "    </tr>\n",
       "    <tr>\n",
       "      <th>3</th>\n",
       "      <td>User_4</td>\n",
       "      <td>Hyundai Kona</td>\n",
       "      <td>50.000000</td>\n",
       "      <td>Station_327</td>\n",
       "      <td>Houston</td>\n",
       "      <td>2024-01-01 03:00:00</td>\n",
       "      <td>2024-01-01 06:42:00</td>\n",
       "      <td>79.457824</td>\n",
       "      <td>1.266431</td>\n",
       "      <td>32.882870</td>\n",
       "      <td>13.036239</td>\n",
       "      <td>Evening</td>\n",
       "      <td>Saturday</td>\n",
       "      <td>83.120003</td>\n",
       "      <td>99.624328</td>\n",
       "      <td>199.577785</td>\n",
       "      <td>38.316313</td>\n",
       "      <td>1.0</td>\n",
       "      <td>Level 1</td>\n",
       "    </tr>\n",
       "    <tr>\n",
       "      <th>4</th>\n",
       "      <td>User_5</td>\n",
       "      <td>Hyundai Kona</td>\n",
       "      <td>50.000000</td>\n",
       "      <td>Station_108</td>\n",
       "      <td>Los Angeles</td>\n",
       "      <td>2024-01-01 04:00:00</td>\n",
       "      <td>2024-01-01 05:46:00</td>\n",
       "      <td>19.629104</td>\n",
       "      <td>2.019765</td>\n",
       "      <td>10.215712</td>\n",
       "      <td>10.161471</td>\n",
       "      <td>Morning</td>\n",
       "      <td>Saturday</td>\n",
       "      <td>54.258950</td>\n",
       "      <td>63.743786</td>\n",
       "      <td>203.661847</td>\n",
       "      <td>-7.834199</td>\n",
       "      <td>1.0</td>\n",
       "      <td>Level 1</td>\n",
       "    </tr>\n",
       "  </tbody>\n",
       "</table>\n",
       "</div>"
      ],
      "text/plain": [
       "  User ID Vehicle Model  Battery Capacity (kWh) Charging Station ID  \\\n",
       "0  User_1        BMW i3              108.463007         Station_391   \n",
       "1  User_2  Hyundai Kona              100.000000         Station_428   \n",
       "2  User_3    Chevy Bolt               75.000000         Station_181   \n",
       "3  User_4  Hyundai Kona               50.000000         Station_327   \n",
       "4  User_5  Hyundai Kona               50.000000         Station_108   \n",
       "\n",
       "  Charging Station Location  Charging Start Time    Charging End Time  \\\n",
       "0                   Houston  2024-01-01 00:00:00  2024-01-01 00:39:00   \n",
       "1             San Francisco  2024-01-01 01:00:00  2024-01-01 03:01:00   \n",
       "2             San Francisco  2024-01-01 02:00:00  2024-01-01 04:48:00   \n",
       "3                   Houston  2024-01-01 03:00:00  2024-01-01 06:42:00   \n",
       "4               Los Angeles  2024-01-01 04:00:00  2024-01-01 05:46:00   \n",
       "\n",
       "   Energy Consumed (kWh)  Charging Duration (hours)  Charging Rate (kW)  \\\n",
       "0              60.712346                   0.591363           36.389181   \n",
       "1              12.339275                   3.133652           30.677735   \n",
       "2              19.128876                   2.452653           27.513593   \n",
       "3              79.457824                   1.266431           32.882870   \n",
       "4              19.629104                   2.019765           10.215712   \n",
       "\n",
       "   Charging Cost (USD) Time of Day Day of Week  State of Charge (Start %)  \\\n",
       "0            13.087717     Evening     Tuesday                  29.371576   \n",
       "1            21.128448     Morning      Monday                  10.115778   \n",
       "2            35.667270     Morning    Thursday                   6.854604   \n",
       "3            13.036239     Evening    Saturday                  83.120003   \n",
       "4            10.161471     Morning    Saturday                  54.258950   \n",
       "\n",
       "   State of Charge (End %)  Distance Driven (since last charge) (km)  \\\n",
       "0                86.119962                                293.602111   \n",
       "1                84.664344                                112.112804   \n",
       "2                69.917615                                 71.799253   \n",
       "3                99.624328                                199.577785   \n",
       "4                63.743786                                203.661847   \n",
       "\n",
       "   Temperature (°C)  Vehicle Age (years)     Charger Type  \n",
       "0         27.947953                  2.0  DC Fast Charger  \n",
       "1         14.311026                  3.0          Level 1  \n",
       "2         21.002002                  2.0          Level 2  \n",
       "3         38.316313                  1.0          Level 1  \n",
       "4         -7.834199                  1.0          Level 1  "
      ]
     },
     "execution_count": 6,
     "metadata": {},
     "output_type": "execute_result"
    }
   ],
   "source": [
    "X.head()"
   ]
  },
  {
   "cell_type": "code",
   "execution_count": 7,
   "id": "a00e6c00-56bf-48e8-8f91-4033ebefb913",
   "metadata": {},
   "outputs": [
    {
     "data": {
      "text/html": [
       "<div>\n",
       "<style scoped>\n",
       "    .dataframe tbody tr th:only-of-type {\n",
       "        vertical-align: middle;\n",
       "    }\n",
       "\n",
       "    .dataframe tbody tr th {\n",
       "        vertical-align: top;\n",
       "    }\n",
       "\n",
       "    .dataframe thead th {\n",
       "        text-align: right;\n",
       "    }\n",
       "</style>\n",
       "<table border=\"1\" class=\"dataframe\">\n",
       "  <thead>\n",
       "    <tr style=\"text-align: right;\">\n",
       "      <th></th>\n",
       "      <th>User Type</th>\n",
       "    </tr>\n",
       "  </thead>\n",
       "  <tbody>\n",
       "    <tr>\n",
       "      <th>0</th>\n",
       "      <td>Commuter</td>\n",
       "    </tr>\n",
       "    <tr>\n",
       "      <th>1</th>\n",
       "      <td>Casual Driver</td>\n",
       "    </tr>\n",
       "    <tr>\n",
       "      <th>2</th>\n",
       "      <td>Commuter</td>\n",
       "    </tr>\n",
       "    <tr>\n",
       "      <th>3</th>\n",
       "      <td>Long-Distance Traveler</td>\n",
       "    </tr>\n",
       "    <tr>\n",
       "      <th>4</th>\n",
       "      <td>Long-Distance Traveler</td>\n",
       "    </tr>\n",
       "  </tbody>\n",
       "</table>\n",
       "</div>"
      ],
      "text/plain": [
       "                User Type\n",
       "0                Commuter\n",
       "1           Casual Driver\n",
       "2                Commuter\n",
       "3  Long-Distance Traveler\n",
       "4  Long-Distance Traveler"
      ]
     },
     "execution_count": 7,
     "metadata": {},
     "output_type": "execute_result"
    }
   ],
   "source": [
    "y.head()"
   ]
  },
  {
   "cell_type": "code",
   "execution_count": 8,
   "id": "242f821c-a73b-4323-a319-1bf6ca0bc0a8",
   "metadata": {},
   "outputs": [
    {
     "ename": "AttributeError",
     "evalue": "'DataFrame' object has no attribute 'ravel'",
     "output_type": "error",
     "traceback": [
      "\u001b[0;31m---------------------------------------------------------------------------\u001b[0m",
      "\u001b[0;31mAttributeError\u001b[0m                            Traceback (most recent call last)",
      "\u001b[0;32m/var/folders/v6/0hx6_c8924b45s6mtrqk8k940000gn/T/ipykernel_2700/4103886879.py\u001b[0m in \u001b[0;36m?\u001b[0;34m()\u001b[0m\n\u001b[1;32m      1\u001b[0m \u001b[0mencoder\u001b[0m \u001b[0;34m=\u001b[0m \u001b[0mLabelEncoder\u001b[0m\u001b[0;34m(\u001b[0m\u001b[0;34m)\u001b[0m\u001b[0;34m\u001b[0m\u001b[0;34m\u001b[0m\u001b[0m\n\u001b[1;32m      2\u001b[0m \u001b[0;34m\u001b[0m\u001b[0m\n\u001b[0;32m----> 3\u001b[0;31m \u001b[0my\u001b[0m \u001b[0;34m=\u001b[0m \u001b[0mencoder\u001b[0m\u001b[0;34m.\u001b[0m\u001b[0mfit_transform\u001b[0m\u001b[0;34m(\u001b[0m\u001b[0my\u001b[0m\u001b[0;34m.\u001b[0m\u001b[0mravel\u001b[0m\u001b[0;34m(\u001b[0m\u001b[0;34m)\u001b[0m\u001b[0;34m)\u001b[0m\u001b[0;34m\u001b[0m\u001b[0;34m\u001b[0m\u001b[0m\n\u001b[0m",
      "\u001b[0;32m/opt/anaconda3/lib/python3.12/site-packages/pandas/core/generic.py\u001b[0m in \u001b[0;36m?\u001b[0;34m(self, name)\u001b[0m\n\u001b[1;32m   6295\u001b[0m             \u001b[0;32mand\u001b[0m \u001b[0mname\u001b[0m \u001b[0;32mnot\u001b[0m \u001b[0;32min\u001b[0m \u001b[0mself\u001b[0m\u001b[0;34m.\u001b[0m\u001b[0m_accessors\u001b[0m\u001b[0;34m\u001b[0m\u001b[0;34m\u001b[0m\u001b[0m\n\u001b[1;32m   6296\u001b[0m             \u001b[0;32mand\u001b[0m \u001b[0mself\u001b[0m\u001b[0;34m.\u001b[0m\u001b[0m_info_axis\u001b[0m\u001b[0;34m.\u001b[0m\u001b[0m_can_hold_identifiers_and_holds_name\u001b[0m\u001b[0;34m(\u001b[0m\u001b[0mname\u001b[0m\u001b[0;34m)\u001b[0m\u001b[0;34m\u001b[0m\u001b[0;34m\u001b[0m\u001b[0m\n\u001b[1;32m   6297\u001b[0m         \u001b[0;34m)\u001b[0m\u001b[0;34m:\u001b[0m\u001b[0;34m\u001b[0m\u001b[0;34m\u001b[0m\u001b[0m\n\u001b[1;32m   6298\u001b[0m             \u001b[0;32mreturn\u001b[0m \u001b[0mself\u001b[0m\u001b[0;34m[\u001b[0m\u001b[0mname\u001b[0m\u001b[0;34m]\u001b[0m\u001b[0;34m\u001b[0m\u001b[0;34m\u001b[0m\u001b[0m\n\u001b[0;32m-> 6299\u001b[0;31m         \u001b[0;32mreturn\u001b[0m \u001b[0mobject\u001b[0m\u001b[0;34m.\u001b[0m\u001b[0m__getattribute__\u001b[0m\u001b[0;34m(\u001b[0m\u001b[0mself\u001b[0m\u001b[0;34m,\u001b[0m \u001b[0mname\u001b[0m\u001b[0;34m)\u001b[0m\u001b[0;34m\u001b[0m\u001b[0;34m\u001b[0m\u001b[0m\n\u001b[0m",
      "\u001b[0;31mAttributeError\u001b[0m: 'DataFrame' object has no attribute 'ravel'"
     ]
    }
   ],
   "source": [
    "encoder = LabelEncoder()\n",
    "\n",
    "y = encoder.fit_transform(y.ravel())"
   ]
  },
  {
   "cell_type": "code",
   "execution_count": null,
   "id": "645bda64-1272-46a3-953b-88b15d369805",
   "metadata": {},
   "outputs": [
    {
     "ename": "",
     "evalue": "",
     "output_type": "error",
     "traceback": [
      "\u001b[1;31m'Python 3.12.4' ile hücreleri çalıştırmak için ipykernel paketi gerekir.\n",
      "\u001b[1;31mPython ortamına 'ipykernel' yüklemek için aşağıdaki komutu çalıştırın. \n",
      "\u001b[1;31mKomut: '/opt/homebrew/bin/python3 -m pip install ipykernel -U --user --force-reinstall'"
     ]
    }
   ],
   "source": [
    "print(y.tolist())\n"
   ]
  },
  {
   "cell_type": "code",
   "execution_count": null,
   "id": "5eb02b16-9fb1-4840-b782-980094df52ff",
   "metadata": {},
   "outputs": [
    {
     "ename": "",
     "evalue": "",
     "output_type": "error",
     "traceback": [
      "\u001b[1;31m'Python 3.12.4' ile hücreleri çalıştırmak için ipykernel paketi gerekir.\n",
      "\u001b[1;31mPython ortamına 'ipykernel' yüklemek için aşağıdaki komutu çalıştırın. \n",
      "\u001b[1;31mKomut: '/opt/homebrew/bin/python3 -m pip install ipykernel -U --user --force-reinstall'"
     ]
    }
   ],
   "source": [
    "X = X.apply(encoder.fit_transform)"
   ]
  },
  {
   "cell_type": "code",
   "execution_count": null,
   "id": "04fcde8e-382a-4ca3-bda8-c8b5395f6e62",
   "metadata": {},
   "outputs": [
    {
     "ename": "",
     "evalue": "",
     "output_type": "error",
     "traceback": [
      "\u001b[1;31m'Python 3.12.4' ile hücreleri çalıştırmak için ipykernel paketi gerekir.\n",
      "\u001b[1;31mPython ortamına 'ipykernel' yüklemek için aşağıdaki komutu çalıştırın. \n",
      "\u001b[1;31mKomut: '/opt/homebrew/bin/python3 -m pip install ipykernel -U --user --force-reinstall'"
     ]
    }
   ],
   "source": [
    "print(X)"
   ]
  },
  {
   "cell_type": "code",
   "execution_count": null,
   "id": "c3c29708-054c-4fee-80ba-b2700ae8a53c",
   "metadata": {},
   "outputs": [
    {
     "ename": "",
     "evalue": "",
     "output_type": "error",
     "traceback": [
      "\u001b[1;31m'Python 3.12.4' ile hücreleri çalıştırmak için ipykernel paketi gerekir.\n",
      "\u001b[1;31mPython ortamına 'ipykernel' yüklemek için aşağıdaki komutu çalıştırın. \n",
      "\u001b[1;31mKomut: '/opt/homebrew/bin/python3 -m pip install ipykernel -U --user --force-reinstall'"
     ]
    }
   ],
   "source": [
    "from sklearn.model_selection import train_test_split\n",
    "\n",
    "X_train, X_temporary, y_train, y_temporary = train_test_split(X, y, train_size = 0.8)\n",
    "X_validation, X_test, y_validation, y_test = train_test_split(X_temporary, y_temporary, train_size = 0.5)\n",
    "\n",
    "print(f'lenght of the dataset: {len(X)}')\n",
    "print(f'lenght of the training dataset: {len(X_train)}')\n",
    "print(f'lenght of the validation dataset: {len(X_validation)}')\n",
    "print(f'lenght of the test dataset: {len(X_test)}')"
   ]
  },
  {
   "cell_type": "code",
   "execution_count": null,
   "id": "8ebb7ec3-7156-4732-a8f2-35a1b52185de",
   "metadata": {},
   "outputs": [
    {
     "ename": "",
     "evalue": "",
     "output_type": "error",
     "traceback": [
      "\u001b[1;31m'Python 3.12.4' ile hücreleri çalıştırmak için ipykernel paketi gerekir.\n",
      "\u001b[1;31mPython ortamına 'ipykernel' yüklemek için aşağıdaki komutu çalıştırın. \n",
      "\u001b[1;31mKomut: '/opt/homebrew/bin/python3 -m pip install ipykernel -U --user --force-reinstall'"
     ]
    }
   ],
   "source": [
    "import tensorflow as tf\n",
    "\n",
    "model = tf.keras.Sequential()"
   ]
  },
  {
   "cell_type": "code",
   "execution_count": null,
   "id": "c8aee9b4-0a29-420b-8098-aaf889d22802",
   "metadata": {},
   "outputs": [
    {
     "ename": "",
     "evalue": "",
     "output_type": "error",
     "traceback": [
      "\u001b[1;31m'Python 3.12.4' ile hücreleri çalıştırmak için ipykernel paketi gerekir.\n",
      "\u001b[1;31mPython ortamına 'ipykernel' yüklemek için aşağıdaki komutu çalıştırın. \n",
      "\u001b[1;31mKomut: '/opt/homebrew/bin/python3 -m pip install ipykernel -U --user --force-reinstall'"
     ]
    }
   ],
   "source": [
    "print(X_train.shape)"
   ]
  },
  {
   "cell_type": "code",
   "execution_count": null,
   "id": "c8c0c68e-2fda-40b1-9216-85c5f3af6e31",
   "metadata": {},
   "outputs": [
    {
     "ename": "",
     "evalue": "",
     "output_type": "error",
     "traceback": [
      "\u001b[1;31m'Python 3.12.4' ile hücreleri çalıştırmak için ipykernel paketi gerekir.\n",
      "\u001b[1;31mPython ortamına 'ipykernel' yüklemek için aşağıdaki komutu çalıştırın. \n",
      "\u001b[1;31mKomut: '/opt/homebrew/bin/python3 -m pip install ipykernel -U --user --force-reinstall'"
     ]
    }
   ],
   "source": [
    "model.add(tf.keras.layers.Input(shape=(19,)))\n",
    "model.add(tf.keras.layers.Dense(1056, activation = 'relu'))\n",
    "model.summary()"
   ]
  },
  {
   "cell_type": "code",
   "execution_count": null,
   "id": "4a0e26f8-b4d2-42b9-98d9-dc0b768d0627",
   "metadata": {},
   "outputs": [
    {
     "ename": "",
     "evalue": "",
     "output_type": "error",
     "traceback": [
      "\u001b[1;31m'Python 3.12.4' ile hücreleri çalıştırmak için ipykernel paketi gerekir.\n",
      "\u001b[1;31mPython ortamına 'ipykernel' yüklemek için aşağıdaki komutu çalıştırın. \n",
      "\u001b[1;31mKomut: '/opt/homebrew/bin/python3 -m pip install ipykernel -U --user --force-reinstall'"
     ]
    }
   ],
   "source": [
    "model.add(tf.keras.layers.Dropout(0.5))\n",
    "model.add(tf.keras.layers.Dense(1056, activation = 'relu'))\n",
    "\n",
    "model.add(tf.keras.layers.Dropout(0.5))\n",
    "model.add(tf.keras.layers.Dense(1056, activation = 'relu'))\n",
    "\n",
    "model.add(tf.keras.layers.Dropout(0.5))\n",
    "model.add(tf.keras.layers.Dense(1056, activation = 'relu'))\n",
    "\n",
    "model.add(tf.keras.layers.Dropout(0.5))\n",
    "model.add(tf.keras.layers.Dense(1056, activation = 'relu'))"
   ]
  },
  {
   "cell_type": "code",
   "execution_count": null,
   "id": "1d75252a-4e20-46a3-9177-52c8438e42c3",
   "metadata": {},
   "outputs": [
    {
     "ename": "",
     "evalue": "",
     "output_type": "error",
     "traceback": [
      "\u001b[1;31m'Python 3.12.4' ile hücreleri çalıştırmak için ipykernel paketi gerekir.\n",
      "\u001b[1;31mPython ortamına 'ipykernel' yüklemek için aşağıdaki komutu çalıştırın. \n",
      "\u001b[1;31mKomut: '/opt/homebrew/bin/python3 -m pip install ipykernel -U --user --force-reinstall'"
     ]
    }
   ],
   "source": [
    "model.add(tf.keras.layers.Dense(1056, activation = 'relu'))\n",
    "model.summary()"
   ]
  },
  {
   "cell_type": "code",
   "execution_count": null,
   "id": "ecbba128-6c34-40f6-8977-533c1c2fc48d",
   "metadata": {},
   "outputs": [
    {
     "ename": "",
     "evalue": "",
     "output_type": "error",
     "traceback": [
      "\u001b[1;31m'Python 3.12.4' ile hücreleri çalıştırmak için ipykernel paketi gerekir.\n",
      "\u001b[1;31mPython ortamına 'ipykernel' yüklemek için aşağıdaki komutu çalıştırın. \n",
      "\u001b[1;31mKomut: '/opt/homebrew/bin/python3 -m pip install ipykernel -U --user --force-reinstall'"
     ]
    }
   ],
   "source": [
    "model.add(tf.keras.layers.Dense(19, activation = 'softmax'))"
   ]
  },
  {
   "cell_type": "code",
   "execution_count": null,
   "id": "b6b6f2ca-137e-49e6-8ca7-785c4ad5117d",
   "metadata": {},
   "outputs": [
    {
     "ename": "",
     "evalue": "",
     "output_type": "error",
     "traceback": [
      "\u001b[1;31m'Python 3.12.4' ile hücreleri çalıştırmak için ipykernel paketi gerekir.\n",
      "\u001b[1;31mPython ortamına 'ipykernel' yüklemek için aşağıdaki komutu çalıştırın. \n",
      "\u001b[1;31mKomut: '/opt/homebrew/bin/python3 -m pip install ipykernel -U --user --force-reinstall'"
     ]
    }
   ],
   "source": [
    "model.summary()"
   ]
  },
  {
   "cell_type": "code",
   "execution_count": null,
   "id": "123d532b-bcd6-4364-acff-1eed38702220",
   "metadata": {},
   "outputs": [
    {
     "ename": "",
     "evalue": "",
     "output_type": "error",
     "traceback": [
      "\u001b[1;31m'Python 3.12.4' ile hücreleri çalıştırmak için ipykernel paketi gerekir.\n",
      "\u001b[1;31mPython ortamına 'ipykernel' yüklemek için aşağıdaki komutu çalıştırın. \n",
      "\u001b[1;31mKomut: '/opt/homebrew/bin/python3 -m pip install ipykernel -U --user --force-reinstall'"
     ]
    }
   ],
   "source": [
    "model.compile(optimizer = 'adam', loss = 'sparse_categorical_crossentropy', metrics = ['accuracy'])\n",
    "results = model.fit(X_train, y_train, epochs = 100, validation_data = (X_validation, y_validation))"
   ]
  },
  {
   "cell_type": "code",
   "execution_count": null,
   "id": "a7569825-afa6-4bc4-8144-1cab9bbaa695",
   "metadata": {},
   "outputs": [
    {
     "ename": "",
     "evalue": "",
     "output_type": "error",
     "traceback": [
      "\u001b[1;31m'Python 3.12.4' ile hücreleri çalıştırmak için ipykernel paketi gerekir.\n",
      "\u001b[1;31mPython ortamına 'ipykernel' yüklemek için aşağıdaki komutu çalıştırın. \n",
      "\u001b[1;31mKomut: '/opt/homebrew/bin/python3 -m pip install ipykernel -U --user --force-reinstall'"
     ]
    }
   ],
   "source": [
    "plt.plot(results.history['loss'], label = 'Train')\n",
    "plt.plot(results.history['val_loss'], label = 'Test')\n",
    "plt.ylabel('Loss')\n",
    "plt.xlabel('Epoch')\n",
    "plt.legend()\n",
    "plt.show()"
   ]
  }
 ],
 "metadata": {
  "kernelspec": {
   "display_name": "Python 3 (ipykernel)",
   "language": "python",
   "name": "python3"
  },
  "language_info": {
   "codemirror_mode": {
    "name": "ipython",
    "version": 3
   },
   "file_extension": ".py",
   "mimetype": "text/x-python",
   "name": "python",
   "nbconvert_exporter": "python",
   "pygments_lexer": "ipython3",
   "version": "3.12.4"
  }
 },
 "nbformat": 4,
 "nbformat_minor": 5
}
